{
 "cells": [
  {
   "cell_type": "code",
   "execution_count": 1,
   "metadata": {},
   "outputs": [],
   "source": [
    "# !cd .. && mkdir build\n",
    "# !cd ../build/ && rm -rf *\n",
    "# !cd ../build && cmake \\\n",
    "#   -DPYTHON_EXECUTABLE=\"$(which python)\" \\\n",
    "#   -DCMAKE_BUILD_TYPE=Release ..\n",
    "# !cd ../build && make install"
   ]
  },
  {
   "cell_type": "code",
   "execution_count": 2,
   "metadata": {},
   "outputs": [
    {
     "name": "stdout",
     "output_type": "stream",
     "text": [
      "/home/john/Desktop/TP/tp3-metnum/notebooks\n",
      "Python 3.8.3\n"
     ]
    }
   ],
   "source": [
    "import pandas as pd\n",
    "import numpy as np\n",
    "\n",
    "import seaborn as sns\n",
    "from matplotlib import cm\n",
    "import matplotlib.pyplot as plt\n",
    "\n",
    "# Verifico la correcta instalación. Si no falla el import está OK\n",
    "!pwd\n",
    "!python --version\n",
    "import metnum"
   ]
  },
  {
   "cell_type": "code",
   "execution_count": 15,
   "metadata": {},
   "outputs": [
    {
     "name": "stdout",
     "output_type": "stream",
     "text": [
      "<class 'pandas.core.frame.DataFrame'>\n",
      "Int64Index: 41602 entries, 1 to 239999\n",
      "Data columns (total 23 columns):\n",
      " #   Column                      Non-Null Count  Dtype  \n",
      "---  ------                      --------------  -----  \n",
      " 0   id                          41602 non-null  int64  \n",
      " 1   titulo                      40653 non-null  object \n",
      " 2   descripcion                 41362 non-null  object \n",
      " 3   tipodepropiedad             41602 non-null  object \n",
      " 4   direccion                   39603 non-null  object \n",
      " 5   ciudad                      41592 non-null  object \n",
      " 6   provincia                   41602 non-null  object \n",
      " 7   antiguedad                  41602 non-null  float64\n",
      " 8   habitaciones                41602 non-null  float64\n",
      " 9   garages                     41602 non-null  float64\n",
      " 10  banos                       41602 non-null  float64\n",
      " 11  metroscubiertos             41602 non-null  float64\n",
      " 12  metrostotales               26382 non-null  float64\n",
      " 13  idzona                      39770 non-null  float64\n",
      " 14  lat                         23977 non-null  float64\n",
      " 15  lng                         23977 non-null  float64\n",
      " 16  fecha                       41602 non-null  object \n",
      " 17  gimnasio                    41602 non-null  float64\n",
      " 18  usosmultiples               41602 non-null  float64\n",
      " 19  piscina                     41602 non-null  float64\n",
      " 20  escuelascercanas            41602 non-null  float64\n",
      " 21  centroscomercialescercanos  41602 non-null  float64\n",
      " 22  precio                      41602 non-null  float64\n",
      "dtypes: float64(15), int64(1), object(7)\n",
      "memory usage: 7.6+ MB\n"
     ]
    }
   ],
   "source": [
    "df = pd.read_csv('../data/train.csv')\n",
    "df = df[df['provincia']=='Distrito Federal'].dropna(subset = ['habitaciones','metroscubiertos', 'banos','garages', 'antiguedad'])\n",
    "\n",
    "X = df['habitaciones'].values\n",
    "y = df['precio'].values\n",
    "\n",
    "X = X.reshape(len(X),1)\n",
    "y = y.reshape(len(y),1)\n",
    "# df.info()\n",
    "df.info()"
   ]
  },
  {
   "cell_type": "code",
   "execution_count": 4,
   "metadata": {},
   "outputs": [
    {
     "data": {
      "text/plain": [
       "(41602, 1)"
      ]
     },
     "execution_count": 4,
     "metadata": {},
     "output_type": "execute_result"
    }
   ],
   "source": [
    "X.shape"
   ]
  },
  {
   "cell_type": "code",
   "execution_count": 5,
   "metadata": {},
   "outputs": [],
   "source": [
    "from sklearn.linear_model import LinearRegression\n",
    "\n",
    "\"\"\"\n",
    "Reemplazar por nuestra implementación \n",
    "\"\"\"\n",
    "\n",
    "# linear_regressor = LinearRegression()\n",
    "linear_regressor = metnum.LinearRegression()\n",
    "\n",
    "linear_regressor.fit(X,y)\n",
    "\n"
   ]
  },
  {
   "cell_type": "code",
   "execution_count": 6,
   "metadata": {},
   "outputs": [],
   "source": [
    "df['prediction'] = linear_regressor.predict(X)"
   ]
  },
  {
   "cell_type": "code",
   "execution_count": 7,
   "metadata": {},
   "outputs": [
    {
     "data": {
      "text/plain": [
       "<matplotlib.axes._subplots.AxesSubplot at 0x7f09895029a0>"
      ]
     },
     "execution_count": 7,
     "metadata": {},
     "output_type": "execute_result"
    },
    {
     "data": {
      "image/png": "[encoded data removed]",
      "text/plain": [
       "<Figure size 432x288 with 1 Axes>"
      ]
     },
     "metadata": {
      "needs_background": "light"
     },
     "output_type": "display_data"
    }
   ],
   "source": [
    "sns.scatterplot(data=df, x='habitaciones', y='precio')\n",
    "sns.lineplot(data=df, x='habitaciones', y='prediction', color='red')"
   ]
  },
  {
   "cell_type": "code",
   "execution_count": 8,
   "metadata": {},
   "outputs": [
    {
     "data": {
      "text/plain": [
       "(41602, 2)"
      ]
     },
     "execution_count": 8,
     "metadata": {},
     "output_type": "execute_result"
    }
   ],
   "source": [
    "X2 = df[['habitaciones','metroscubiertos']].values\n",
    "X2 = X2.reshape(len(X),2)\n",
    "y = y.reshape(len(y),1)\n",
    "\n",
    "\n",
    "linear_regressor = metnum.LinearRegression()\n",
    "\n",
    "linear_regressor.fit(X2,y)\n",
    "df['prediction'] = linear_regressor.predict(X2)\n",
    "\n",
    "X2.shape\n"
   ]
  },
  {
   "cell_type": "code",
   "execution_count": 32,
   "metadata": {},
   "outputs": [
    {
     "name": "stdout",
     "output_type": "stream",
     "text": [
      "[[2.013e+03 3.000e+00 2.680e+02 2.000e+00 2.000e+00 1.000e+01]\n",
      " [2.014e+03 2.000e+00 7.500e+01 1.000e+00 1.000e+00 5.000e+00]\n",
      " [2.012e+03 3.000e+00 2.580e+02 3.000e+00 2.000e+00 2.000e+00]\n",
      " ...\n",
      " [2.015e+03 2.000e+00 1.380e+02 2.000e+00 1.000e+00 2.000e+01]\n",
      " [2.014e+03 4.000e+00 2.350e+02 4.000e+00 0.000e+00 2.000e+01]\n",
      " [2.015e+03 3.000e+00 1.490e+02 2.000e+00 2.000e+00 1.000e+00]]\n",
      "Con Regresion Lineal:\n",
      "1536770.0382241295\n",
      "Con Regresion KNN:\n",
      "1849690.0415032406\n",
      "{'clf__n_neighbors': 1, 'clf__weights': 'distance'}\n"
     ]
    }
   ],
   "source": [
    "from math import sqrt\n",
    "from sklearn.metrics import  make_scorer\n",
    "import datetime\n",
    "\n",
    "def errorRMSE(y1,y2 ):\n",
    "    return sqrt ( mean_squared_error(y1,y2) )\n",
    "\n",
    "errorRMSE_scorer = make_scorer(errorRMSE)\n",
    "\n",
    "from sklearn.model_selection import KFold\n",
    "from sklearn.model_selection import GridSearchCV\n",
    "from sklearn.pipeline import Pipeline\n",
    "from sklearn.preprocessing import StandardScaler\n",
    "from sklearn.neighbors import KNeighborsRegressor\n",
    "from sklearn.metrics import mean_squared_error\n",
    "\n",
    "df = pd.read_csv('../data/train.csv')\n",
    "df = df[df['provincia']=='Distrito Federal'].dropna(subset = ['fecha','habitaciones','metroscubiertos', 'banos','garages', 'antiguedad'])\n",
    "df['fecha'] = df['fecha'].apply(lambda x: int( x.split('-')[0] ) )\n",
    "\n",
    "X5 = df[['fecha', 'habitaciones','metroscubiertos', 'banos','garages', 'antiguedad' ]].values\n",
    "\n",
    "\n",
    "X5 = X5.reshape(len(X),6)\n",
    "y = y.reshape(len(y),1)\n",
    "\n",
    "print(X5)\n",
    "\n",
    "particiones = KFold(n_splits=10, random_state=30, shuffle=True)\n",
    "# linear_regressorCV = metnum.LinearRegression()\n",
    "\n",
    "linear_regressorCV = LinearRegression( )\n",
    "knnRegresor = KNeighborsRegressor( )\n",
    "\n",
    "parametersKNN = dict( clf__n_neighbors= [1,2,3,5,7,10,15] ,  clf__weights =['distance', 'uniform'])\n",
    "parameters= dict()\n",
    "\n",
    "pipeKnn = Pipeline([\n",
    "            ('scale', StandardScaler()),\n",
    "\n",
    "            ('clf', knnRegresor) ] ) \n",
    "\n",
    "pipeLR = Pipeline([\n",
    "            ('scale', StandardScaler()),\n",
    "\n",
    "            ('clf', linear_regressorCV) ] ) \n",
    "\n",
    "GridclfKNN = GridSearchCV(pipeKnn, parametersKNN, cv = particiones, n_jobs=-1, scoring = errorRMSE_scorer)\n",
    "GridclfKNN.fit(X5,y)\n",
    "\n",
    "GridclfLR = GridSearchCV(pipeLR, parameters, cv = particiones, n_jobs=-1  , scoring = errorRMSE_scorer   )\n",
    "GridclfLR.fit(X5,y)\n",
    "\n",
    "print(\"Con Regresion Lineal:\")\n",
    "print( GridclfLR.best_score_ ) \n",
    "print(\"Con Regresion KNN:\")\n",
    "print( GridclfKNN.best_score_ ) \n",
    "print(GridclfKNN.best_params_)"
   ]
  },
  {
   "cell_type": "code",
   "execution_count": null,
   "metadata": {},
   "outputs": [],
   "source": []
  },
  {
   "cell_type": "code",
   "execution_count": null,
   "metadata": {},
   "outputs": [],
   "source": []
  },
  {
   "cell_type": "code",
   "execution_count": null,
   "metadata": {},
   "outputs": [],
   "source": []
  }
 ],
 "metadata": {
  "kernelspec": {
   "display_name": "Python 3",
   "language": "python",
   "name": "python3"
  },
  "language_info": {
   "codemirror_mode": {
    "name": "ipython",
    "version": 3
   },
   "file_extension": ".py",
   "mimetype": "text/x-python",
   "name": "python",
   "nbconvert_exporter": "python",
   "pygments_lexer": "ipython3",
   "version": "3.8.3"
  }
 },
 "nbformat": 4,
 "nbformat_minor": 4
}
