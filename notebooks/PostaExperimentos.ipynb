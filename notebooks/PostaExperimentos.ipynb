{
 "cells": [
  {
   "cell_type": "code",
   "execution_count": 9,
   "metadata": {},
   "outputs": [
    {
     "name": "stdout",
     "output_type": "stream",
     "text": [
      "/home/fede2004/workspace/tp3-metnum/notebooks\n",
      "Python 3.8.2\n"
     ]
    }
   ],
   "source": [
    "import pandas as pd\n",
    "import numpy as np\n",
    "\n",
    "import seaborn as sns\n",
    "from matplotlib import cm\n",
    "import matplotlib.pyplot as plt\n",
    "\n",
    "# Verifico la correcta instalación. Si no falla el import está OK\n",
    "!pwd\n",
    "!python3 --version\n",
    "import metnum\n",
    "\n",
    "from math import sqrt\n",
    "from sklearn.metrics import mean_squared_error\n",
    "from sklearn.metrics import mean_squared_log_error\n",
    "from sklearn.feature_selection import  SelectKBest, f_regression\n",
    "from sklearn.model_selection import train_test_split\n",
    "from sklearn.metrics import classification_report\n",
    "from sklearn.pipeline import make_pipeline\n",
    "from sklearn.preprocessing import StandardScaler\n",
    "\n",
    "def errorRMSE(y1,y2 ):\n",
    "    return sqrt ( mean_squared_error(y1,y2) )\n",
    "\n",
    "def errorRMSLE(y1,y2 ):\n",
    "    return sqrt ( mean_squared_log_error(np.abs(y1),np.abs(y2)) )\n",
    "\n",
    "from sklearn.model_selection import KFold"
   ]
  },
  {
   "cell_type": "code",
   "execution_count": 10,
   "metadata": {},
   "outputs": [],
   "source": [
    "def calcularResultadosConKfold(X, y):\n",
    "    accuraccy = 0\n",
    "    splits = 5\n",
    "    error_rmse = 0 \n",
    "    error_rmsle = 0\n",
    "\n",
    "    kf = KFold(n_splits=splits, random_state=42, shuffle=True)\n",
    "    for train_index, test_index in kf.split(X):\n",
    "        X_train, X_test = X[train_index], X[test_index]\n",
    "        y_train, y_test = y[train_index], y[test_index]\n",
    "        lr = metnum.LinearRegression()\n",
    "\n",
    "        lr.fit(X_train, y_train)\n",
    "        y_pred = lr.predict(X_test)\n",
    "\n",
    "        error_rmse += errorRMSE(y_test,y_pred)\n",
    "        error_rmsle += errorRMSLE(y_test,y_pred)\n",
    "\n",
    "        accuraccy += errorRMSE(y_test,y_pred) / y.mean()\n",
    "        \n",
    "    return [accuraccy/splits, error_rmse/splits, error_rmsle/splits]"
   ]
  },
  {
   "cell_type": "code",
   "execution_count": 32,
   "metadata": {},
   "outputs": [
    {
     "name": "stdout",
     "output_type": "stream",
     "text": [
      "acuracy is: 0.611493787128716\n",
      "error_rmse is: 1362701.691217185\n",
      "error_rmsle is: 0.5697421583015749\n"
     ]
    }
   ],
   "source": [
    "df = pd.read_csv('../data/train.csv')\n",
    "df.dropna(subset = ['precio','habitaciones','metroscubiertos', 'banos','garages', 'antiguedad'], inplace=True)\n",
    "\n",
    "df1h = df.copy()\n",
    "\n",
    "df1h = df1h[['precio','habitaciones','metroscubiertos', 'banos','garages', 'antiguedad']]\n",
    "dfsp = df1h\n",
    "dfsp = dfsp.loc[:, df1h.columns != 'precio']\n",
    "\n",
    "X = dfsp.values\n",
    "n =len(dfsp.columns)\n",
    "\n",
    "y = df1['precio'].values\n",
    "X = X.reshape(len(X), n)\n",
    "y = y.reshape(len(y),)\n",
    "\n",
    "\n",
    "res = calcularResultadosConKfold(X, y)\n",
    "\n",
    "print('acuracy is: ' + str(res[0]))\n",
    "print('error_rmse is: ' + str(res[1]))\n",
    "print('error_rmsle is: ' + str(res[2]))"
   ]
  },
  {
   "cell_type": "code",
   "execution_count": 33,
   "metadata": {},
   "outputs": [
    {
     "name": "stdout",
     "output_type": "stream",
     "text": [
      "acuracy is: 0.605307557287224\n",
      "error_rmse is: 1348915.80157333\n",
      "error_rmsle is: 0.5893883279634957\n"
     ]
    }
   ],
   "source": [
    "df1h = df.copy()\n",
    "df1h = df1h[['precio','habitaciones','metroscubiertos', 'banos','garages', 'antiguedad']]\n",
    "\n",
    "df1h['garages']  = df1h['garages'].apply(lambda x:  (x) )\n",
    "df1h['garages0']  = df1h['garages'].apply(lambda x:  (x**0) )\n",
    "df1h['garages2']  = df1h['garages'].apply(lambda x:  (x**2) )\n",
    "df1h['garages3']  = df1h['garages'].apply(lambda x:  (x**3) )\n",
    "df1h['garages4']  = df1h['garages'].apply(lambda x:  (x**4) )\n",
    "\n",
    "df1h['banos']  = df1h['banos'].apply(lambda x:  (x) )\n",
    "df1h['banos0']  = df1h['banos'].apply(lambda x:  (x**0) )\n",
    "df1h['banos2']  = df1h['banos'].apply(lambda x:  (x**2) )\n",
    "df1h['banos3']  = df1h['banos'].apply(lambda x:  (x**3 ))\n",
    "df1h['banos4']  = df1h['banos'].apply(lambda x:  (x**4) )\n",
    "\n",
    "df1h['metroscubiertos']  = df1h['metroscubiertos'].apply(lambda x:  (x) )\n",
    "df1h['metroscubiertos0']  = df1h['metroscubiertos'].apply(lambda x:  (x**0) )\n",
    "df1h['metroscubiertos2']  = df1h['metroscubiertos'].apply(lambda x:  (x**2) )\n",
    "df1h['metroscubiertos3']  = df1h['metroscubiertos'].apply(lambda x:  (x**3) )\n",
    "df1h['metroscubiertos4']  = df1h['metroscubiertos'].apply(lambda x:  (x**4) )\n",
    "\n",
    "\n",
    "df1h['habitaciones']  = df1h['habitaciones'].apply(lambda x:  (x) )\n",
    "df1h['habitaciones0']  = df1h['habitaciones'].apply(lambda x:  (x**0) )\n",
    "df1h['habitaciones2']  = df1h['habitaciones'].apply(lambda x:  (x**2) )\n",
    "df1h['habitaciones3']  = df1h['habitaciones'].apply(lambda x:  (x**3) )\n",
    "df1h['habitaciones4']  = df1h['habitaciones'].apply(lambda x:  (x**4) )\n",
    "\n",
    "dfsp = df1h\n",
    "dfsp = dfsp.loc[:, df1h.columns != 'precio']\n",
    "\n",
    "X = dfsp.values\n",
    "n =len(dfsp.columns)\n",
    "\n",
    "y = df1['precio'].values\n",
    "X = X.reshape(len(X), n)\n",
    "y = y.reshape(len(y),)\n",
    "\n",
    "\n",
    "res = calcularResultadosConKfold(X, y)\n",
    "\n",
    "print('acuracy is: ' + str(res[0]))\n",
    "print('error_rmse is: ' + str(res[1]))\n",
    "print('error_rmsle is: ' + str(res[2]))\n"
   ]
  },
  {
   "cell_type": "code",
   "execution_count": null,
   "metadata": {},
   "outputs": [],
   "source": []
  }
 ],
 "metadata": {
  "kernelspec": {
   "display_name": "Python 3",
   "language": "python",
   "name": "python3"
  },
  "language_info": {
   "codemirror_mode": {
    "name": "ipython",
    "version": 3
   },
   "file_extension": ".py",
   "mimetype": "text/x-python",
   "name": "python",
   "nbconvert_exporter": "python",
   "pygments_lexer": "ipython3",
   "version": "3.8.2"
  }
 },
 "nbformat": 4,
 "nbformat_minor": 4
}
